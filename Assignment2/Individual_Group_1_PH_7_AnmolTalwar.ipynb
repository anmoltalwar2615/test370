{
    "metadata": {
        "kernelspec": {
            "name": "SQL",
            "display_name": "SQL",
            "language": "sql"
        },
        "language_info": {
            "name": "sql",
            "version": ""
        }
    },
    "nbformat_minor": 2,
    "nbformat": 4,
    "cells": [
        {
            "cell_type": "markdown",
            "source": [
                "# **Chapter-7**"
            ],
            "metadata": {
                "azdata_cell_guid": "097e5755-2248-4cd8-841a-abd82cad1e39"
            },
            "attachments": {}
        },
        {
            "cell_type": "markdown",
            "source": [
                "### **Problem: 4**\n",
                "\n",
                "\\-- 5\n",
                "\n",
                "\\-- Run the following code to create and populate the EmpYearOrders table:\n",
                "\n",
                "\\-- Write a query against the EmpYearOrders table that unpivots\n",
                "\n",
                "\\-- the data, returning a row for each employee and order year\n",
                "\n",
                "\\-- with the number of orders\n",
                "\n",
                "\\-- Exclude rows where the number of orders is 0\n",
                "\n",
                "\\-- (in our example, employee 3 in year 2016)\n",
                "\n",
                "**Solution:**\n",
                "\n",
                "**Proposition:** Writing the query against EmpYearOrders table that unpivots the data, returning a row for each employee and order year with the number of orders. Excluding rows where number of orders is 0.\n",
                "\n",
                "**Tables:**  <span style=\"color: var(--vscode-foreground);\">&nbsp;TSQLV4, Northwinds2022TSQLV7 database,&nbsp;dbo.EmpYearOrders, dbo.Orders</span>\n",
                "\n",
                "**Columns:** dbo.EmpYearOrders: empid, cnt2014, cnt2015, cnt2016, EmployeeId, OrderDate, empid/EmployeeId\n",
                "\n",
                "**Predicate:** WHERE numorders \\<\\> 0;, which filters the results to exclude rows where the number of orders (numorders) is zero. This condition ensures that only records representing actual sales activity—where employees have made one or more sales in a given year—are included in the final output, effectively omitting any data where there was no sales performance to report.\n",
                "\n",
                "  \n",
                "\n",
                "![](data:image/png;base64,iVBORw0KGgoAAAANSUhEUgAAAA8AAAAPCAMAAAAMCGV4AAAAAXNSR0IArs4c6QAAAARnQU1BAACxjwv8YQUAAAH+UExURQAAAAAAAP///4D//////1VVVVWqqoC/v7+/v5nMmZnMzJK2tp/fv47GxqTbyI/Pv5bDtJbStKHXvJLOtovFrqLRubbb0YTKsK3ezo/Pt5zVxp/WyJTQvKjdyYzGs6bSxprVxKLWxaXaxZbNuarcyJPOuqLYxK3dz4vMtZ7XwaLZxIjKta7bzpfRvZTVvqfdzq/h0ZDPuarey6nbzYrRuJjVv5zVv7zq2KHVxLnn1YrLt43Ls5/ZyKXdyKrdzJ/Wwo7Turfm1pvTwZjYwq/j04XItLTg0KDWw57XxKXey4jKs5LSvZ7axa/g0Lbg0qTbyKfdy5rUwJrVwqzdzJDOuqLeyabgzJnVwafcyqDcyKXcyKjgzpzYwofKs7Xg0qXbyZnUwJ/axqfezK7k0pnYxKffzKHdyKXZx5PQvIfKs7Pf0ZrcxbLn1aHXxJjSv4zNuJrWwqfdy67dzIzQuqTZx6jayancypXSvrfm1pHQupbSvpDPuJbQvaTYxqvdy43NuK3dzYvMtrDfz5LQuqncypvZxKngzZHTvKvj0LPk05nbxJ7XxKHaxrLn1aDeyqHZx6HYxZnSwIjKtJrZxLLg0K3j0aXcyqHbyL7u3ojLtZHXwJXSvqjcy7Pg0YvOuJjYwq/j0bbk1ZTSvaLbx43PuaHbx6vezbTi04rLtbDfznheDbgAAACqdFJOUwABAQICAwMEBAUFBwgJDhARERMVFhYcHR8gJCUmJigoKywwMzM0NDU3Ojw+P0JDQ0NFRUdISEhISUlKSkpKS1BRUVJcXGJia2x6fHx8fX1+f4GBkJGSkpmZpqenqK6vsLGys7S2ubu8vcLCw8PExsjJycnKysrKy8vMzM7Oz8/Q0NXW19jc3ODg4OHh4eHi4uTl6Ojo6err7e7u7u7u7+/v7/Dw8fHx8fb29wguWAAAAAlwSFlzAAAXEQAAFxEByibzPwAAAOZJREFUGFdjAAHLiuWdvjxgJgi4LXRkk18wtTBJC8w1n6vDYJCTbKzkudSJgYEpbkYTQ3CvC4OtNIPZRB4Gvyz1Is4yUcWo1J5Q3hpVhilisnUs6fEd/cICka2zJRlWMqi0MJT487lPD2LQXWTI0GDHURqRCzQ2L7ycy7qewWiZPkPANA/+wCqGZlWGFQwSc9qiBYW6+xIymKtlxCcxqNXyhPWkxSiIVLLna2R6MfBMsGCQsmFw7gphaJwVy8jAYL/YR9k0JVuPQXumCdi9mokFk+fLsTrMcwVzQYDbu31JsRUDAwMDAMJcOPP+BzY8AAAAAElFTkSuQmCC)_Written in collaboration with ChatGPT from OpenAI to improve understanding and assist with the explanation of the query._"
            ],
            "metadata": {
                "azdata_cell_guid": "9800b3d9-7de1-4620-8484-308d4c981d92"
            },
            "attachments": {}
        },
        {
            "cell_type": "code",
            "source": [
                "USE TSQLV4\r\n",
                "\r\n",
                "DROP TABLE IF EXISTS dbo.EmpYearOrders;\r\n",
                "\r\n",
                "CREATE TABLE dbo.EmpYearOrders\r\n",
                "(\r\n",
                "  empid INT NOT NULL\r\n",
                "    CONSTRAINT PK_EmpYearOrders PRIMARY KEY,\r\n",
                "  cnt2014 INT NULL,\r\n",
                "  cnt2015 INT NULL,\r\n",
                "  cnt2016 INT NULL\r\n",
                ");\r\n",
                "\r\n",
                "INSERT INTO dbo.EmpYearOrders(empid, cnt2014, cnt2015, cnt2016)\r\n",
                "  SELECT empid, [2014] AS cnt2014, [2015] AS cnt2015, [2016] AS cnt2016\r\n",
                "  FROM (SELECT empid, YEAR(OrderDate) AS orderyear\r\n",
                "        FROM dbo.Orders) AS D\r\n",
                "    PIVOT(COUNT(orderyear)\r\n",
                "          FOR orderyear IN([2014], [2015], [2016])) AS P;\r\n",
                "\r\n",
                "\r\n",
                "SELECT empid, CAST(RIGHT(orderyear, 4) AS INT) AS orderyear, numorders\r\n",
                "FROM dbo.EmpYearOrders\r\n",
                " UNPIVOT(numorders FOR orderyear IN(cnt2014, cnt2015, cnt2016)) AS U\r\n",
                "WHERE numorders <> 0;"
            ],
            "metadata": {
                "azdata_cell_guid": "75a18bcf-de95-4fae-8e00-d5fbae63dcf6",
                "language": "sql"
            },
            "outputs": [],
            "execution_count": null
        },
        {
            "cell_type": "code",
            "source": [
                "USE Northwinds2022TSQLV7\r\n",
                "\r\n",
                "DROP TABLE IF EXISTS dbo.EmpYearOrders;\r\n",
                "\r\n",
                "CREATE TABLE dbo.EmpYearOrders\r\n",
                "(\r\n",
                "  empid INT NOT NULL\r\n",
                "    CONSTRAINT PK_EmpYearOrders PRIMARY KEY,\r\n",
                "  cnt2014 INT NULL,\r\n",
                "  cnt2015 INT NULL,\r\n",
                "  cnt2016 INT NULL\r\n",
                ");\r\n",
                "\r\n",
                "INSERT INTO dbo.EmpYearOrders(empid, cnt2014, cnt2015, cnt2016)\r\n",
                "  SELECT EmployeeId, [2014] AS cnt2014, [2015] AS cnt2015, [2016] AS cnt2016\r\n",
                "  FROM (SELECT EmployeeId, YEAR(OrderDate) AS orderyear\r\n",
                "        FROM dbo.Orders) AS D\r\n",
                "    PIVOT(COUNT(orderyear)\r\n",
                "          FOR orderyear IN([2014], [2015], [2016])) AS P;\r\n",
                "\r\n",
                "\r\n",
                "SELECT empid, CAST(RIGHT(orderyear, 4) AS INT) AS orderyear, numorders\r\n",
                "FROM dbo.EmpYearOrders\r\n",
                " UNPIVOT(numorders FOR orderyear IN(cnt2014, cnt2015, cnt2016)) AS U\r\n",
                "WHERE numorders <> 0;"
            ],
            "metadata": {
                "language": "sql",
                "azdata_cell_guid": "f88c9ea9-3187-4005-96a3-80a2b23d3a88"
            },
            "outputs": [],
            "execution_count": null
        }
    ]
}